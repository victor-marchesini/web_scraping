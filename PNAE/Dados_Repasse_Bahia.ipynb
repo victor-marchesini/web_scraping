{
 "cells": [
  {
   "cell_type": "code",
   "execution_count": null,
   "id": "b1a4e506-9c40-46ab-8efc-48f3b17cd852",
   "metadata": {},
   "outputs": [],
   "source": [
    "from selenium import webdriver\n",
    "from selenium.webdriver.common.keys import Keys\n",
    "from selenium.webdriver import ActionChains\n",
    "import time"
   ]
  },
  {
   "cell_type": "code",
   "execution_count": null,
   "id": "ad4dc3c9-9b27-430b-ace2-882542d7201b",
   "metadata": {},
   "outputs": [],
   "source": [
    "form_input = {\n",
    "    'cbTipoConsulta': 'Repasse',          # Tipo_de_OPC\n",
    "    'cbAno': '2019',                      # Ano Inicio Vigencia\n",
    "    'cbPrograma': 'ALIMENTAÇÃO ESCOLAR',  # Programa/Projeto\n",
    "    'cbUf': 'Bahia'                       # UF\n",
    "}\n",
    "\n",
    "filename = 'PNAE'\n",
    "for value in form_input.values():\n",
    "    filename += '_' + value.replace(' ','_')\n",
    "filename += '.csv'"
   ]
  },
  {
   "cell_type": "code",
   "execution_count": null,
   "id": "ff96b2d2-396c-429c-ac7a-5dd0aa1e7a4d",
   "metadata": {},
   "outputs": [],
   "source": [
    "driver = webdriver.Firefox()\n",
    "\n",
    "url = 'https://www.fnde.gov.br/sigpcadm/sistema.pu?operation=localizar'\n",
    "\n",
    "# query_str = '#consulta=tipoConsulta%3D2%26anoConcessao%3D2019%26programaId%3DC7%26ufId%3DBA'\n",
    "\n",
    "driver.get(url)\n",
    "time.sleep(5)"
   ]
  },
  {
   "cell_type": "code",
   "execution_count": null,
   "id": "19edd055-dd59-463a-93bd-435000859b81",
   "metadata": {},
   "outputs": [],
   "source": [
    "for element_id, element_content in form_input.items():\n",
    "    print(f'{element_id}: {element_content}')\n",
    "    element = driver.find_element_by_id(element_id)\n",
    "    element.send_keys(element_content)\n",
    "    time.sleep(2)\n",
    "    element.send_keys(Keys.TAB)"
   ]
  },
  {
   "cell_type": "code",
   "execution_count": null,
   "id": "2dee1872-ef66-4589-8ea9-f20667165eb6",
   "metadata": {},
   "outputs": [],
   "source": [
    "time.sleep(2)\n",
    "element_id = 'ext-gen218'  # botão pesquisar\n",
    "element = driver.find_element_by_id(element_id)\n",
    "ActionChains(driver).move_to_element(element).click().perform()\n",
    "time.sleep(5)"
   ]
  },
  {
   "cell_type": "code",
   "execution_count": null,
   "id": "01309d79-98f7-42c8-bb3c-a9f08eefe15b",
   "metadata": {},
   "outputs": [],
   "source": [
    "element_id = 'ext-gen240' # tabela com resultados (body)\n",
    "element = driver.find_element_by_id(element_id)\n",
    "# element.text\n",
    "table_content = element.get_attribute('innerHTML')\n",
    "row_content = table_content.split('Repasse')"
   ]
  },
  {
   "cell_type": "code",
   "execution_count": null,
   "id": "301c606a-a1de-43d7-85c4-23831b98fef6",
   "metadata": {},
   "outputs": [],
   "source": [
    "# row_content[1]"
   ]
  },
  {
   "cell_type": "code",
   "execution_count": null,
   "id": "ea530606-5da0-450b-a718-93ca302f2c3f",
   "metadata": {},
   "outputs": [],
   "source": [
    "href='javascript:abrirNoPconline(\"2575915\")'\n",
    "driver.execute_script(href)\n",
    "alert_obj = driver.switch_to.alert\n",
    "alert_obj.accept()"
   ]
  },
  {
   "cell_type": "code",
   "execution_count": null,
   "id": "11ce2cc4-1b3b-463e-be31-cac8fbfb1944",
   "metadata": {},
   "outputs": [],
   "source": [
    "driver.switch_to.window(driver.window_handles[-1])\n",
    "element_id = 'div_direita'\n",
    "element = driver.find_element_by_id(element_id)\n",
    "table_content = element.get_attribute('innerHTML')"
   ]
  },
  {
   "cell_type": "code",
   "execution_count": null,
   "id": "ab1f4d78-4f62-4ee1-a79b-0ba3b7ad6077",
   "metadata": {},
   "outputs": [],
   "source": [
    "content = element.text\n",
    "content.split(':')\n",
    "# content\n",
    "table_content\n",
    "\n",
    "from bs4 import BeautifulSoup\n",
    "soup = BeautifulSoup(table_content)\n",
    "# soup[0]\n",
    "# type(soup)\n",
    "head_cols = []\n",
    "for head in soup.find_all('th'):\n",
    "    i = head.text.find('T')\n",
    "    head_text = head.text.strip(':')\n",
    "    if head_text:\n",
    "        head_cols.append(head_text)\n",
    "#     print(i,head.text,type(head.text))\n",
    "# print(len(soup.find_all('td')),len())\n",
    "head_cols"
   ]
  },
  {
   "cell_type": "code",
   "execution_count": null,
   "id": "939690ac-4c00-4f0a-8e1b-6c8d871f2f8c",
   "metadata": {},
   "outputs": [],
   "source": [
    "data_cols = []\n",
    "for table_data in soup.find_all('td'):\n",
    "    data = table_data.text.strip(':').strip()\n",
    "    if data:\n",
    "        data_cols.append(data)\n",
    "#     print(i,head.text,type(head.text))\n",
    "# print(len(soup.find_all('td')),len())\n",
    "data_cols\n",
    "\n",
    "{col:data for col,data in zip(head_cols,data_cols)}"
   ]
  },
  {
   "cell_type": "code",
   "execution_count": null,
   "id": "eae36cc2-e344-4614-9423-7eb95c2bdd7b",
   "metadata": {},
   "outputs": [],
   "source": [
    "filename"
   ]
  },
  {
   "cell_type": "code",
   "execution_count": null,
   "id": "2ea07499-f646-4dfd-ba30-0d3a4d3274a1",
   "metadata": {},
   "outputs": [],
   "source": [
    "filename\n",
    "\n",
    "driver.close()\n",
    "driver.switch_to.window(driver.window_handles[-1])\n",
    "driver.close()"
   ]
  },
  {
   "cell_type": "code",
   "execution_count": null,
   "id": "2860067c-c3fd-4b90-93b9-51b9aa8c0358",
   "metadata": {},
   "outputs": [],
   "source": []
  }
 ],
 "metadata": {
  "kernelspec": {
   "display_name": "Python 3",
   "language": "python",
   "name": "python3"
  },
  "language_info": {
   "codemirror_mode": {
    "name": "ipython",
    "version": 3
   },
   "file_extension": ".py",
   "mimetype": "text/x-python",
   "name": "python",
   "nbconvert_exporter": "python",
   "pygments_lexer": "ipython3",
   "version": "3.7.10"
  }
 },
 "nbformat": 4,
 "nbformat_minor": 5
}
