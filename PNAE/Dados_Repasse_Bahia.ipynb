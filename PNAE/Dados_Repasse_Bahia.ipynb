{
 "cells": [
  {
   "cell_type": "code",
   "execution_count": null,
   "id": "b1a4e506-9c40-46ab-8efc-48f3b17cd852",
   "metadata": {},
   "outputs": [],
   "source": [
    "from selenium import webdriver\n",
    "from selenium.webdriver.common.keys import Keys\n",
    "from selenium.webdriver import ActionChains\n",
    "from bs4 import BeautifulSoup\n",
    "\n",
    "import time"
   ]
  },
  {
   "cell_type": "code",
   "execution_count": null,
   "id": "11ce2cc4-1b3b-463e-be31-cac8fbfb1944",
   "metadata": {},
   "outputs": [],
   "source": [
    "def get_content_from_new_tab(driver,script: str,element_id: str):\n",
    "    driver.execute_script(script)\n",
    "    alert_obj = driver.switch_to.alert\n",
    "    alert_obj.accept()\n",
    "    driver.switch_to.window(driver.window_handles[-1])\n",
    "    \n",
    "    element = None\n",
    "    while not element:\n",
    "        try:\n",
    "            element = driver.find_element_by_id(element_id)\n",
    "        except:\n",
    "            print('.',end='')\n",
    "            time.sleep(1)\n",
    "\n",
    "    table_content = element.get_attribute('innerHTML')\n",
    "    driver.close()\n",
    "    return table_content\n",
    "\n",
    "def get_data(table_content,tag: str):\n",
    "    soup = BeautifulSoup(table_content)    \n",
    "    data_cols = []\n",
    "    for table_data in soup.find_all(tag):\n",
    "        data = table_data.text.strip(':').strip()\n",
    "        if data:\n",
    "            data_cols.append(data)\n",
    "    return data_cols"
   ]
  },
  {
   "cell_type": "code",
   "execution_count": null,
   "id": "ad4dc3c9-9b27-430b-ace2-882542d7201b",
   "metadata": {},
   "outputs": [],
   "source": [
    "tipo_consulta = 'Repasse'\n",
    "ano = '2019'\n",
    "UF = 'BA'\n",
    "UF_nome = 'Bahia'\n",
    "programa = 'ALIMENTAÇÃO ESCOLAR'\n",
    "\n",
    "form_input = {\n",
    "    'cbTipoConsulta': tipo_consulta, # Tipo_de_OPC\n",
    "    'cbAno': ano,                    # Ano Inicio Vigencia\n",
    "    'cbPrograma': programa,          # Programa/Projeto\n",
    "    'cbUf': UF_nome                  # UF\n",
    "}\n",
    "\n",
    "fname = 'PNAE'\n",
    "for value in form_input.values():\n",
    "    fname += '_' + value.replace(' ','_')\n",
    "fname += '.csv'\n",
    "print('Arquivo de saída:',fname)"
   ]
  },
  {
   "cell_type": "code",
   "execution_count": null,
   "id": "ff96b2d2-396c-429c-ac7a-5dd0aa1e7a4d",
   "metadata": {},
   "outputs": [],
   "source": [
    "driver = webdriver.Firefox()\n",
    "\n",
    "url = 'https://www.fnde.gov.br/sigpcadm/sistema.pu?operation=localizar'\n",
    "\n",
    "query_str = f'#consulta=tipoConsulta%3D2%26anoConcessao%3D{ano}%26programaId%3DC7%26ufId%3D{UF}'\n",
    "\n",
    "driver.get(url+query_str)\n",
    "# time.sleep(5)"
   ]
  },
  {
   "cell_type": "raw",
   "id": "6cf239e9-6059-4d20-bb0b-ae0b11fb96eb",
   "metadata": {},
   "source": [
    "## bloco substituído pela query_str\n",
    "\n",
    "for element_id, element_content in form_input.items():\n",
    "    print(f'{element_id}: {element_content}')\n",
    "    element = driver.find_element_by_id(element_id)\n",
    "    element.send_keys(element_content)\n",
    "    time.sleep(1)\n",
    "    element.send_keys(Keys.TAB)\n",
    "\n",
    "time.sleep(2)\n",
    "element_id = 'ext-gen218'  # botão pesquisar\n",
    "element = driver.find_element_by_id(element_id)\n",
    "ActionChains(driver).move_to_element(element).click().perform()\n",
    "time.sleep(10)"
   ]
  },
  {
   "cell_type": "code",
   "execution_count": null,
   "id": "08b87cfc-5e24-4638-9a92-b25d2124da78",
   "metadata": {},
   "outputs": [],
   "source": [
    "## get current_page\n",
    "element_id = 'ext-comp-1004' # número da página atual\n",
    "curren_page_elm = driver.find_element_by_id(element_id)\n",
    "i = 0\n",
    "current_page = ''\n",
    "while not current_page:\n",
    "    current_page = curren_page_elm.get_attribute('value')\n",
    "    print('.',end='')\n",
    "    time.sleep(1)\n",
    "current_page = int(current_page)\n",
    "new_page = current_page\n",
    "\n",
    "## get total_pages\n",
    "element_id = 'ext-comp-1005' # total de páginas\n",
    "element = driver.find_element_by_id(element_id)\n",
    "total_pages = int(element.text.split()[-1])\n",
    "\n",
    "scripts = []\n",
    "while current_page <= total_pages:\n",
    "    print(f'\\n Analisando página {current_page} de {total_pages}',end='  ')\n",
    "    element_id = 'ext-gen240' # tabela com resultados (body)\n",
    "    element = driver.find_element_by_id(element_id)\n",
    "    table_content = element.get_attribute('innerHTML')\n",
    "    soup = BeautifulSoup(table_content)\n",
    "    for a in soup.find_all('a'):\n",
    "        href = a['href']\n",
    "        if 'abrirNoPconline' in href:\n",
    "            scripts.append(href)\n",
    "    \n",
    "    if current_page == total_pages:\n",
    "        print(f'\\n Foram lidos {len(scripts)} scripts.')\n",
    "        break\n",
    "    ## click to next page\n",
    "    element_id = 'ext-gen265'  # botão \"next page\"\n",
    "    element = driver.find_element_by_id(element_id)\n",
    "    element.click()\n",
    "    \n",
    "    ## update current_page\n",
    "    while new_page == current_page:\n",
    "        time.sleep(1)\n",
    "        print('.',end='')\n",
    "        new_page = int(curren_page_elm.get_attribute('value'))\n",
    "    current_page = new_page"
   ]
  },
  {
   "cell_type": "code",
   "execution_count": null,
   "id": "efbbbc57-fb8f-42b9-9a1e-24ce301a7fcf",
   "metadata": {},
   "outputs": [],
   "source": [
    "sep = ','\n",
    "\n",
    "## get headers\n",
    "driver.switch_to.window(driver.window_handles[0])\n",
    "\n",
    "script = scripts[0]\n",
    "element_id='div_direita'\n",
    "content = get_content_from_new_tab(driver,script,element_id)\n",
    "cols = get_data(content,tag='th')\n",
    "csv_content = sep.join(cols) + '\\r\\n'"
   ]
  },
  {
   "cell_type": "code",
   "execution_count": null,
   "id": "ea530606-5da0-450b-a718-93ca302f2c3f",
   "metadata": {},
   "outputs": [],
   "source": [
    "## get data\n",
    "\n",
    "for i,script in enumerate(scripts):\n",
    "    print('\\n iteração:',i,end='  ')\n",
    "    driver.switch_to.window(driver.window_handles[0])\n",
    "    element_id = 'div_direita'\n",
    "    content = get_content_from_new_tab(driver,script,element_id)\n",
    "    cols = get_data(content,tag='td')\n",
    "    csv_content += sep.join(cols) + '\\r\\n'"
   ]
  },
  {
   "cell_type": "code",
   "execution_count": null,
   "id": "a7af4668-3af2-4cd5-807a-4947fc9dabbd",
   "metadata": {},
   "outputs": [],
   "source": [
    "if scripts:\n",
    "    scripts_file = 'scripts_' + fname.split('.')[0] + '.txt'\n",
    "    f = open(scripts_file, \"w\")\n",
    "    f.write('\\r\\n'.join(scripts))\n",
    "    f.close()\n",
    "\n",
    "f = open(fname, \"w\")\n",
    "f.write(csv_content)\n",
    "f.close()\n"
   ]
  },
  {
   "cell_type": "code",
   "execution_count": null,
   "id": "ee4b0f5f-8a6b-42a4-9d9e-aed60f250d16",
   "metadata": {},
   "outputs": [],
   "source": [
    "# scripts_file = 'scripts_' + fname.split('.')[0] + '.txt'\n",
    "# f = open(scripts_file, \"r\")\n",
    "# lines = f.readlines()\n",
    "# f.close()\n",
    "# '\\r\\n'.join([line.strip() for line in lines])"
   ]
  },
  {
   "cell_type": "code",
   "execution_count": null,
   "id": "570a44f9-f327-493b-b8f7-7b98afe0b3f5",
   "metadata": {},
   "outputs": [],
   "source": []
  }
 ],
 "metadata": {
  "kernelspec": {
   "display_name": "Python 3",
   "language": "python",
   "name": "python3"
  },
  "language_info": {
   "codemirror_mode": {
    "name": "ipython",
    "version": 3
   },
   "file_extension": ".py",
   "mimetype": "text/x-python",
   "name": "python",
   "nbconvert_exporter": "python",
   "pygments_lexer": "ipython3",
   "version": "3.7.10"
  }
 },
 "nbformat": 4,
 "nbformat_minor": 5
}
