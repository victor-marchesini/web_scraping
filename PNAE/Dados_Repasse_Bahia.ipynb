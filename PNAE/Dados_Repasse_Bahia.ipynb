{
 "cells": [
  {
   "cell_type": "code",
   "execution_count": 1,
   "id": "b1a4e506-9c40-46ab-8efc-48f3b17cd852",
   "metadata": {},
   "outputs": [],
   "source": [
    "from selenium import webdriver\n",
    "from selenium.webdriver.common.keys import Keys\n",
    "from selenium.webdriver import ActionChains\n",
    "import time"
   ]
  },
  {
   "cell_type": "code",
   "execution_count": 2,
   "id": "ff96b2d2-396c-429c-ac7a-5dd0aa1e7a4d",
   "metadata": {},
   "outputs": [],
   "source": [
    "driver = webdriver.Firefox()\n",
    "\n",
    "url = 'https://www.fnde.gov.br/sigpcadm/sistema.pu?operation=localizar'\n",
    "\n",
    "# query_str = '#consulta=tipoConsulta%3D2%26anoConcessao%3D2019%26programaId%3DC7%26ufId%3DBA'\n",
    "\n",
    "driver.get(url)\n",
    "time.sleep(5)"
   ]
  },
  {
   "cell_type": "code",
   "execution_count": 3,
   "id": "ad4dc3c9-9b27-430b-ace2-882542d7201b",
   "metadata": {},
   "outputs": [],
   "source": [
    "form_input = {\n",
    "    'cbTipoConsulta': 'Repasse',          # Tipo_de_OPC\n",
    "    'cbAno': '2019',                      # Ano Inicio Vigencia\n",
    "    'cbPrograma': 'ALIMENTAÇÃO ESCOLAR',  # Programa/Projeto\n",
    "    'cbUf': 'Bahia'                       # UF\n",
    "}"
   ]
  },
  {
   "cell_type": "code",
   "execution_count": 4,
   "id": "19edd055-dd59-463a-93bd-435000859b81",
   "metadata": {},
   "outputs": [
    {
     "name": "stdout",
     "output_type": "stream",
     "text": [
      "cbTipoConsulta: Repasse\n",
      "cbAno: 2019\n",
      "cbPrograma: ALIMENTAÇÃO ESCOLAR\n",
      "cbUf: Bahia\n"
     ]
    }
   ],
   "source": [
    "for element_id, element_content in form_input.items():\n",
    "    print(f'{element_id}: {element_content}')\n",
    "    element = driver.find_element_by_id(element_id)\n",
    "    element.send_keys(element_content)\n",
    "    time.sleep(2)\n",
    "    element.send_keys(Keys.TAB)"
   ]
  },
  {
   "cell_type": "code",
   "execution_count": 5,
   "id": "2dee1872-ef66-4589-8ea9-f20667165eb6",
   "metadata": {},
   "outputs": [],
   "source": [
    "time.sleep(2)\n",
    "element_id = 'ext-gen218'  # botão pesquisar\n",
    "element = driver.find_element_by_id(element_id)\n",
    "ActionChains(driver).move_to_element(element).click().perform()"
   ]
  },
  {
   "cell_type": "code",
   "execution_count": 6,
   "id": "01309d79-98f7-42c8-bb3c-a9f08eefe15b",
   "metadata": {},
   "outputs": [],
   "source": [
    "element_id = 'ext-gen240' # tabela com resultados (body)\n",
    "element = driver.find_element_by_id(element_id)\n",
    "# element.text\n",
    "table_content = element.get_attribute('innerHTML')\n",
    "row_content = table_content.split('Repasse')"
   ]
  },
  {
   "cell_type": "code",
   "execution_count": 7,
   "id": "301c606a-a1de-43d7-85c4-23831b98fef6",
   "metadata": {},
   "outputs": [],
   "source": [
    "# row_content[1]"
   ]
  },
  {
   "cell_type": "code",
   "execution_count": 8,
   "id": "ea530606-5da0-450b-a718-93ca302f2c3f",
   "metadata": {},
   "outputs": [],
   "source": [
    "href='javascript:abrirNoPconline(\"2575915\")'\n",
    "driver.execute_script(href)\n",
    "alert_obj = driver.switch_to.alert\n",
    "alert_obj.accept()"
   ]
  },
  {
   "cell_type": "code",
   "execution_count": 9,
   "id": "2ea07499-f646-4dfd-ba30-0d3a4d3274a1",
   "metadata": {},
   "outputs": [],
   "source": [
    "# driver.close()"
   ]
  },
  {
   "cell_type": "code",
   "execution_count": null,
   "id": "f8f3d143-cfda-47b1-b627-ea582a945809",
   "metadata": {},
   "outputs": [],
   "source": []
  }
 ],
 "metadata": {
  "kernelspec": {
   "display_name": "Python 3",
   "language": "python",
   "name": "python3"
  },
  "language_info": {
   "codemirror_mode": {
    "name": "ipython",
    "version": 3
   },
   "file_extension": ".py",
   "mimetype": "text/x-python",
   "name": "python",
   "nbconvert_exporter": "python",
   "pygments_lexer": "ipython3",
   "version": "3.7.10"
  }
 },
 "nbformat": 4,
 "nbformat_minor": 5
}
